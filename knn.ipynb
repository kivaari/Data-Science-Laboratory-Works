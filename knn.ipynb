{
  "cells": [
    {
      "cell_type": "code",
      "execution_count": 43,
      "id": "795fcf4c-db2f-4429-9d8b-41ff7308858c",
      "metadata": {
        "id": "795fcf4c-db2f-4429-9d8b-41ff7308858c"
      },
      "outputs": [],
      "source": [
        "%config Completer.use_jedi=False"
      ]
    },
    {
      "cell_type": "code",
      "execution_count": 44,
      "id": "2baa090b-e1ef-4ab3-ac3b-25b8c457175b",
      "metadata": {
        "id": "2baa090b-e1ef-4ab3-ac3b-25b8c457175b"
      },
      "outputs": [],
      "source": [
        "import numpy as np\n",
        "import pandas as pd\n",
        "import matplotlib.pyplot as plt\n",
        "from scipy.spatial.distance import cdist\n",
        "from sklearn.datasets import load_iris\n",
        "from sklearn.preprocessing import MinMaxScaler\n",
        "from sklearn.model_selection import train_test_split\n",
        "from sklearn.metrics import accuracy_score"
      ]
    },
    {
      "cell_type": "code",
      "execution_count": 45,
      "id": "15799cc9-05c3-44c0-bd3d-4144fe9c1512",
      "metadata": {
        "id": "15799cc9-05c3-44c0-bd3d-4144fe9c1512"
      },
      "outputs": [],
      "source": [
        "# подгружаем данные по цветкам ирисов, данные представляют собой словарь где по ключам находятся объекты, нас интересуют свойства цветков и метки их видов\n",
        "data = load_iris()"
      ]
    },
    {
      "cell_type": "code",
      "execution_count": 46,
      "id": "da3c8dfa-47b9-4208-aff7-8e5f524fed7c",
      "metadata": {
        "id": "da3c8dfa-47b9-4208-aff7-8e5f524fed7c"
      },
      "outputs": [],
      "source": [
        "X = data[\"data\"] # как и в дальнейшем данные для обучения будем называть Х\n",
        "y = data[\"target\"] # как и в дальнейшем метки для обучения будем называть Х"
      ]
    },
    {
      "cell_type": "code",
      "execution_count": 47,
      "id": "94201958-437a-4378-a9a8-b7759be395bf",
      "metadata": {
        "colab": {
          "base_uri": "https://localhost:8080/"
        },
        "id": "94201958-437a-4378-a9a8-b7759be395bf",
        "outputId": "691241d4-02d9-4aae-d22e-f2a5ca32492f"
      },
      "outputs": [
        {
          "output_type": "execute_result",
          "data": {
            "text/plain": [
              "(150, 4)"
            ]
          },
          "metadata": {},
          "execution_count": 47
        }
      ],
      "source": [
        "X.shape # 150 строк, 4 столбца"
      ]
    },
    {
      "cell_type": "code",
      "execution_count": 48,
      "id": "522e8e2e-e62e-4877-9424-dc30ecfbbf7c",
      "metadata": {
        "colab": {
          "base_uri": "https://localhost:8080/"
        },
        "id": "522e8e2e-e62e-4877-9424-dc30ecfbbf7c",
        "outputId": "76fd5c14-a04d-4d6f-921c-55d92d754984"
      },
      "outputs": [
        {
          "output_type": "execute_result",
          "data": {
            "text/plain": [
              "(150,)"
            ]
          },
          "metadata": {},
          "execution_count": 48
        }
      ],
      "source": [
        "y.shape # массив из 150 значений"
      ]
    },
    {
      "cell_type": "code",
      "execution_count": 49,
      "id": "489845d8-dff8-4a12-b81d-732b8f545051",
      "metadata": {
        "id": "489845d8-dff8-4a12-b81d-732b8f545051"
      },
      "outputs": [],
      "source": [
        "# созданим датафрейм на основе двумерного массива Х, названия колонок возьмем из data по ключу feature_names\n",
        "\n",
        "df = pd.DataFrame(X, columns=data[\"feature_names\"])"
      ]
    },
    {
      "cell_type": "code",
      "execution_count": 50,
      "id": "5c13e72d-36a9-4cf0-8ca7-cd5673a26085",
      "metadata": {
        "colab": {
          "base_uri": "https://localhost:8080/",
          "height": 206
        },
        "id": "5c13e72d-36a9-4cf0-8ca7-cd5673a26085",
        "outputId": "cdf0e041-f8b7-4ddc-fc05-838a48af801e"
      },
      "outputs": [
        {
          "output_type": "execute_result",
          "data": {
            "text/plain": [
              "   sepal length (cm)  sepal width (cm)  petal length (cm)  petal width (cm)\n",
              "0                5.1               3.5                1.4               0.2\n",
              "1                4.9               3.0                1.4               0.2\n",
              "2                4.7               3.2                1.3               0.2\n",
              "3                4.6               3.1                1.5               0.2\n",
              "4                5.0               3.6                1.4               0.2"
            ],
            "text/html": [
              "\n",
              "  <div id=\"df-80d600f1-2dbf-4c40-a009-561e3c855c1b\">\n",
              "    <div class=\"colab-df-container\">\n",
              "      <div>\n",
              "<style scoped>\n",
              "    .dataframe tbody tr th:only-of-type {\n",
              "        vertical-align: middle;\n",
              "    }\n",
              "\n",
              "    .dataframe tbody tr th {\n",
              "        vertical-align: top;\n",
              "    }\n",
              "\n",
              "    .dataframe thead th {\n",
              "        text-align: right;\n",
              "    }\n",
              "</style>\n",
              "<table border=\"1\" class=\"dataframe\">\n",
              "  <thead>\n",
              "    <tr style=\"text-align: right;\">\n",
              "      <th></th>\n",
              "      <th>sepal length (cm)</th>\n",
              "      <th>sepal width (cm)</th>\n",
              "      <th>petal length (cm)</th>\n",
              "      <th>petal width (cm)</th>\n",
              "    </tr>\n",
              "  </thead>\n",
              "  <tbody>\n",
              "    <tr>\n",
              "      <th>0</th>\n",
              "      <td>5.1</td>\n",
              "      <td>3.5</td>\n",
              "      <td>1.4</td>\n",
              "      <td>0.2</td>\n",
              "    </tr>\n",
              "    <tr>\n",
              "      <th>1</th>\n",
              "      <td>4.9</td>\n",
              "      <td>3.0</td>\n",
              "      <td>1.4</td>\n",
              "      <td>0.2</td>\n",
              "    </tr>\n",
              "    <tr>\n",
              "      <th>2</th>\n",
              "      <td>4.7</td>\n",
              "      <td>3.2</td>\n",
              "      <td>1.3</td>\n",
              "      <td>0.2</td>\n",
              "    </tr>\n",
              "    <tr>\n",
              "      <th>3</th>\n",
              "      <td>4.6</td>\n",
              "      <td>3.1</td>\n",
              "      <td>1.5</td>\n",
              "      <td>0.2</td>\n",
              "    </tr>\n",
              "    <tr>\n",
              "      <th>4</th>\n",
              "      <td>5.0</td>\n",
              "      <td>3.6</td>\n",
              "      <td>1.4</td>\n",
              "      <td>0.2</td>\n",
              "    </tr>\n",
              "  </tbody>\n",
              "</table>\n",
              "</div>\n",
              "      <button class=\"colab-df-convert\" onclick=\"convertToInteractive('df-80d600f1-2dbf-4c40-a009-561e3c855c1b')\"\n",
              "              title=\"Convert this dataframe to an interactive table.\"\n",
              "              style=\"display:none;\">\n",
              "        \n",
              "  <svg xmlns=\"http://www.w3.org/2000/svg\" height=\"24px\"viewBox=\"0 0 24 24\"\n",
              "       width=\"24px\">\n",
              "    <path d=\"M0 0h24v24H0V0z\" fill=\"none\"/>\n",
              "    <path d=\"M18.56 5.44l.94 2.06.94-2.06 2.06-.94-2.06-.94-.94-2.06-.94 2.06-2.06.94zm-11 1L8.5 8.5l.94-2.06 2.06-.94-2.06-.94L8.5 2.5l-.94 2.06-2.06.94zm10 10l.94 2.06.94-2.06 2.06-.94-2.06-.94-.94-2.06-.94 2.06-2.06.94z\"/><path d=\"M17.41 7.96l-1.37-1.37c-.4-.4-.92-.59-1.43-.59-.52 0-1.04.2-1.43.59L10.3 9.45l-7.72 7.72c-.78.78-.78 2.05 0 2.83L4 21.41c.39.39.9.59 1.41.59.51 0 1.02-.2 1.41-.59l7.78-7.78 2.81-2.81c.8-.78.8-2.07 0-2.86zM5.41 20L4 18.59l7.72-7.72 1.47 1.35L5.41 20z\"/>\n",
              "  </svg>\n",
              "      </button>\n",
              "      \n",
              "  <style>\n",
              "    .colab-df-container {\n",
              "      display:flex;\n",
              "      flex-wrap:wrap;\n",
              "      gap: 12px;\n",
              "    }\n",
              "\n",
              "    .colab-df-convert {\n",
              "      background-color: #E8F0FE;\n",
              "      border: none;\n",
              "      border-radius: 50%;\n",
              "      cursor: pointer;\n",
              "      display: none;\n",
              "      fill: #1967D2;\n",
              "      height: 32px;\n",
              "      padding: 0 0 0 0;\n",
              "      width: 32px;\n",
              "    }\n",
              "\n",
              "    .colab-df-convert:hover {\n",
              "      background-color: #E2EBFA;\n",
              "      box-shadow: 0px 1px 2px rgba(60, 64, 67, 0.3), 0px 1px 3px 1px rgba(60, 64, 67, 0.15);\n",
              "      fill: #174EA6;\n",
              "    }\n",
              "\n",
              "    [theme=dark] .colab-df-convert {\n",
              "      background-color: #3B4455;\n",
              "      fill: #D2E3FC;\n",
              "    }\n",
              "\n",
              "    [theme=dark] .colab-df-convert:hover {\n",
              "      background-color: #434B5C;\n",
              "      box-shadow: 0px 1px 3px 1px rgba(0, 0, 0, 0.15);\n",
              "      filter: drop-shadow(0px 1px 2px rgba(0, 0, 0, 0.3));\n",
              "      fill: #FFFFFF;\n",
              "    }\n",
              "  </style>\n",
              "\n",
              "      <script>\n",
              "        const buttonEl =\n",
              "          document.querySelector('#df-80d600f1-2dbf-4c40-a009-561e3c855c1b button.colab-df-convert');\n",
              "        buttonEl.style.display =\n",
              "          google.colab.kernel.accessAllowed ? 'block' : 'none';\n",
              "\n",
              "        async function convertToInteractive(key) {\n",
              "          const element = document.querySelector('#df-80d600f1-2dbf-4c40-a009-561e3c855c1b');\n",
              "          const dataTable =\n",
              "            await google.colab.kernel.invokeFunction('convertToInteractive',\n",
              "                                                     [key], {});\n",
              "          if (!dataTable) return;\n",
              "\n",
              "          const docLinkHtml = 'Like what you see? Visit the ' +\n",
              "            '<a target=\"_blank\" href=https://colab.research.google.com/notebooks/data_table.ipynb>data table notebook</a>'\n",
              "            + ' to learn more about interactive tables.';\n",
              "          element.innerHTML = '';\n",
              "          dataTable['output_type'] = 'display_data';\n",
              "          await google.colab.output.renderOutput(dataTable, element);\n",
              "          const docLink = document.createElement('div');\n",
              "          docLink.innerHTML = docLinkHtml;\n",
              "          element.appendChild(docLink);\n",
              "        }\n",
              "      </script>\n",
              "    </div>\n",
              "  </div>\n",
              "  "
            ]
          },
          "metadata": {},
          "execution_count": 50
        }
      ],
      "source": [
        "# смотрим первые N строчек, по умолчанию 5\n",
        "\n",
        "df.head()"
      ]
    },
    {
      "cell_type": "code",
      "execution_count": 51,
      "id": "c80ac9a4-e539-4c22-8c5d-e3929eb85081",
      "metadata": {
        "id": "c80ac9a4-e539-4c22-8c5d-e3929eb85081"
      },
      "outputs": [],
      "source": [
        "# добавим новую колонку label куда запишем метки из y (150 меток для 150 строк)\n",
        "\n",
        "df[\"label\"] = y"
      ]
    },
    {
      "cell_type": "code",
      "execution_count": 52,
      "id": "915c1343-25f2-49e4-b2e8-ae3670325194",
      "metadata": {
        "colab": {
          "base_uri": "https://localhost:8080/",
          "height": 206
        },
        "id": "915c1343-25f2-49e4-b2e8-ae3670325194",
        "outputId": "c4337d7c-bea0-44db-edcd-e77744267702"
      },
      "outputs": [
        {
          "output_type": "execute_result",
          "data": {
            "text/plain": [
              "     sepal length (cm)  sepal width (cm)  petal length (cm)  petal width (cm)  \\\n",
              "84                 5.4               3.0                4.5               1.5   \n",
              "136                6.3               3.4                5.6               2.4   \n",
              "42                 4.4               3.2                1.3               0.2   \n",
              "28                 5.2               3.4                1.4               0.2   \n",
              "20                 5.4               3.4                1.7               0.2   \n",
              "\n",
              "     label  \n",
              "84       1  \n",
              "136      2  \n",
              "42       0  \n",
              "28       0  \n",
              "20       0  "
            ],
            "text/html": [
              "\n",
              "  <div id=\"df-66dd0b0f-7fc8-4da1-bd50-861845a25329\">\n",
              "    <div class=\"colab-df-container\">\n",
              "      <div>\n",
              "<style scoped>\n",
              "    .dataframe tbody tr th:only-of-type {\n",
              "        vertical-align: middle;\n",
              "    }\n",
              "\n",
              "    .dataframe tbody tr th {\n",
              "        vertical-align: top;\n",
              "    }\n",
              "\n",
              "    .dataframe thead th {\n",
              "        text-align: right;\n",
              "    }\n",
              "</style>\n",
              "<table border=\"1\" class=\"dataframe\">\n",
              "  <thead>\n",
              "    <tr style=\"text-align: right;\">\n",
              "      <th></th>\n",
              "      <th>sepal length (cm)</th>\n",
              "      <th>sepal width (cm)</th>\n",
              "      <th>petal length (cm)</th>\n",
              "      <th>petal width (cm)</th>\n",
              "      <th>label</th>\n",
              "    </tr>\n",
              "  </thead>\n",
              "  <tbody>\n",
              "    <tr>\n",
              "      <th>84</th>\n",
              "      <td>5.4</td>\n",
              "      <td>3.0</td>\n",
              "      <td>4.5</td>\n",
              "      <td>1.5</td>\n",
              "      <td>1</td>\n",
              "    </tr>\n",
              "    <tr>\n",
              "      <th>136</th>\n",
              "      <td>6.3</td>\n",
              "      <td>3.4</td>\n",
              "      <td>5.6</td>\n",
              "      <td>2.4</td>\n",
              "      <td>2</td>\n",
              "    </tr>\n",
              "    <tr>\n",
              "      <th>42</th>\n",
              "      <td>4.4</td>\n",
              "      <td>3.2</td>\n",
              "      <td>1.3</td>\n",
              "      <td>0.2</td>\n",
              "      <td>0</td>\n",
              "    </tr>\n",
              "    <tr>\n",
              "      <th>28</th>\n",
              "      <td>5.2</td>\n",
              "      <td>3.4</td>\n",
              "      <td>1.4</td>\n",
              "      <td>0.2</td>\n",
              "      <td>0</td>\n",
              "    </tr>\n",
              "    <tr>\n",
              "      <th>20</th>\n",
              "      <td>5.4</td>\n",
              "      <td>3.4</td>\n",
              "      <td>1.7</td>\n",
              "      <td>0.2</td>\n",
              "      <td>0</td>\n",
              "    </tr>\n",
              "  </tbody>\n",
              "</table>\n",
              "</div>\n",
              "      <button class=\"colab-df-convert\" onclick=\"convertToInteractive('df-66dd0b0f-7fc8-4da1-bd50-861845a25329')\"\n",
              "              title=\"Convert this dataframe to an interactive table.\"\n",
              "              style=\"display:none;\">\n",
              "        \n",
              "  <svg xmlns=\"http://www.w3.org/2000/svg\" height=\"24px\"viewBox=\"0 0 24 24\"\n",
              "       width=\"24px\">\n",
              "    <path d=\"M0 0h24v24H0V0z\" fill=\"none\"/>\n",
              "    <path d=\"M18.56 5.44l.94 2.06.94-2.06 2.06-.94-2.06-.94-.94-2.06-.94 2.06-2.06.94zm-11 1L8.5 8.5l.94-2.06 2.06-.94-2.06-.94L8.5 2.5l-.94 2.06-2.06.94zm10 10l.94 2.06.94-2.06 2.06-.94-2.06-.94-.94-2.06-.94 2.06-2.06.94z\"/><path d=\"M17.41 7.96l-1.37-1.37c-.4-.4-.92-.59-1.43-.59-.52 0-1.04.2-1.43.59L10.3 9.45l-7.72 7.72c-.78.78-.78 2.05 0 2.83L4 21.41c.39.39.9.59 1.41.59.51 0 1.02-.2 1.41-.59l7.78-7.78 2.81-2.81c.8-.78.8-2.07 0-2.86zM5.41 20L4 18.59l7.72-7.72 1.47 1.35L5.41 20z\"/>\n",
              "  </svg>\n",
              "      </button>\n",
              "      \n",
              "  <style>\n",
              "    .colab-df-container {\n",
              "      display:flex;\n",
              "      flex-wrap:wrap;\n",
              "      gap: 12px;\n",
              "    }\n",
              "\n",
              "    .colab-df-convert {\n",
              "      background-color: #E8F0FE;\n",
              "      border: none;\n",
              "      border-radius: 50%;\n",
              "      cursor: pointer;\n",
              "      display: none;\n",
              "      fill: #1967D2;\n",
              "      height: 32px;\n",
              "      padding: 0 0 0 0;\n",
              "      width: 32px;\n",
              "    }\n",
              "\n",
              "    .colab-df-convert:hover {\n",
              "      background-color: #E2EBFA;\n",
              "      box-shadow: 0px 1px 2px rgba(60, 64, 67, 0.3), 0px 1px 3px 1px rgba(60, 64, 67, 0.15);\n",
              "      fill: #174EA6;\n",
              "    }\n",
              "\n",
              "    [theme=dark] .colab-df-convert {\n",
              "      background-color: #3B4455;\n",
              "      fill: #D2E3FC;\n",
              "    }\n",
              "\n",
              "    [theme=dark] .colab-df-convert:hover {\n",
              "      background-color: #434B5C;\n",
              "      box-shadow: 0px 1px 3px 1px rgba(0, 0, 0, 0.15);\n",
              "      filter: drop-shadow(0px 1px 2px rgba(0, 0, 0, 0.3));\n",
              "      fill: #FFFFFF;\n",
              "    }\n",
              "  </style>\n",
              "\n",
              "      <script>\n",
              "        const buttonEl =\n",
              "          document.querySelector('#df-66dd0b0f-7fc8-4da1-bd50-861845a25329 button.colab-df-convert');\n",
              "        buttonEl.style.display =\n",
              "          google.colab.kernel.accessAllowed ? 'block' : 'none';\n",
              "\n",
              "        async function convertToInteractive(key) {\n",
              "          const element = document.querySelector('#df-66dd0b0f-7fc8-4da1-bd50-861845a25329');\n",
              "          const dataTable =\n",
              "            await google.colab.kernel.invokeFunction('convertToInteractive',\n",
              "                                                     [key], {});\n",
              "          if (!dataTable) return;\n",
              "\n",
              "          const docLinkHtml = 'Like what you see? Visit the ' +\n",
              "            '<a target=\"_blank\" href=https://colab.research.google.com/notebooks/data_table.ipynb>data table notebook</a>'\n",
              "            + ' to learn more about interactive tables.';\n",
              "          element.innerHTML = '';\n",
              "          dataTable['output_type'] = 'display_data';\n",
              "          await google.colab.output.renderOutput(dataTable, element);\n",
              "          const docLink = document.createElement('div');\n",
              "          docLink.innerHTML = docLinkHtml;\n",
              "          element.appendChild(docLink);\n",
              "        }\n",
              "      </script>\n",
              "    </div>\n",
              "  </div>\n",
              "  "
            ]
          },
          "metadata": {},
          "execution_count": 52
        }
      ],
      "source": [
        "# случайно возьмем 5 строк, мы можем попробовать визуально найти способ чтобы выделить свойства каждой из меток\n",
        "\n",
        "df.sample(5)"
      ]
    },
    {
      "cell_type": "code",
      "execution_count": 53,
      "id": "248febd7-a11f-446f-aa72-68142e0a81a1",
      "metadata": {
        "colab": {
          "base_uri": "https://localhost:8080/",
          "height": 714
        },
        "id": "248febd7-a11f-446f-aa72-68142e0a81a1",
        "outputId": "329cd7b3-0c91-482a-f088-98942f3ae275"
      },
      "outputs": [
        {
          "output_type": "display_data",
          "data": {
            "text/plain": [
              "<Figure size 1152x864 with 1 Axes>"
            ],
            "image/png": "[encoded data removed]"
          },
          "metadata": {
            "needs_background": "light"
          }
        }
      ],
      "source": [
        "# отобразим данные для удобства восприятия, возьмем свойства sepal length (cm) и petal length (cm), попробуем спрогнозировать к какому классу принадлежит красная точка\n",
        "plt.figure(figsize=(16, 12))\n",
        "\n",
        "for i in range(3):\n",
        "    plt.scatter(\n",
        "        df.loc[df[\"label\"] == i][\"sepal length (cm)\"], \n",
        "        df.loc[df[\"label\"] == i][\"petal length (cm)\"],\n",
        "        label=data[\"target_names\"][i]\n",
        "    )\n",
        "plt.scatter([4.7], [4], label=\"unk\")\n",
        "plt.xlabel(\"sepal length (cm)\")\n",
        "plt.ylabel(\"petal length (cm)\")\n",
        "plt.legend();"
      ]
    },
    {
      "cell_type": "markdown",
      "id": "230083ba-d297-450f-9869-5417a25d934d",
      "metadata": {
        "id": "230083ba-d297-450f-9869-5417a25d934d"
      },
      "source": [
        "Сделаем предположение что точка будет принадлежать к тому классу, к точке которого она находится ближе всего\n",
        "\n",
        "Для этого нам необходимо посчитать расстояние до всех точек, от заданной $\\large{z}$ по формуле $\\large{\\sqrt{\\sum_i^N(x_i - z)^2}}$\n",
        "\n",
        "После этого нам необходимо найти наименьшее расстояние и взять класс этой точки\n",
        "\n",
        "Заметим что для поиска наименьшего расстояния необходимо знать только порядок отношения (больше меньше) и не важны абсолютные значения, поэтому корень считать не обязательно, поскольку квадратичная функция для неотрицательных значений постоянно возрастающая и не меняет порядок отношения"
      ]
    },
    {
      "cell_type": "code",
      "execution_count": 54,
      "id": "ffa234f4-39eb-43a8-a0d1-619e4df579cf",
      "metadata": {
        "id": "ffa234f4-39eb-43a8-a0d1-619e4df579cf"
      },
      "outputs": [],
      "source": [
        "class NN:\n",
        "    \n",
        "    def __init__(self):\n",
        "        self.X = None # инициализируем X и y для того чтобы аттрибуты класса были предопределенны заранее\n",
        "        self.y = None\n",
        "    \n",
        "    def fit(self, X, y):\n",
        "        self.X = X # запоминаем данные внутри объекта\n",
        "        self.y = y\n",
        "    \n",
        "    def predict(self, X):\n",
        "        \"\"\"\n",
        "        self.X (N, 4)\n",
        "        X (1, 4)\n",
        "        \"\"\"\n",
        "\n",
        "        square_coords = (self.X - X) ** 2 # считаем квадраты разности координат от точки до наших данных\n",
        "        distances = square_coords.sum(1) # суммируем квадраты координат вдоль стоблцов чтобы получить квадрат расстояния\n",
        "        min_index = np.argmin(distances) # находим индекс минимального расстояния\n",
        "        return self.y[min_index: min_index + 1] # возвращаяем класс по индексу"
      ]
    },
    {
      "cell_type": "code",
      "execution_count": 55,
      "id": "b5c16cf9-6916-4663-b1a4-b8101f1f942b",
      "metadata": {
        "id": "b5c16cf9-6916-4663-b1a4-b8101f1f942b"
      },
      "outputs": [],
      "source": [
        "# для проверки алгорима нам необходимо разделить данные на тренировочные и проверочные, сделать это можно с помощью метода train_test_split в который передаются данные, метки\n",
        "# аргументы test_size - размер проверочных данных, shuffle случайная сортировка перед разделением, random_state - ядро генератора случайных чисел для воспроизводимости\n",
        "\n",
        "train_X, test_X, train_y, test_y = train_test_split(\n",
        "    X, y, test_size=0.2, shuffle=True, random_state=42\n",
        ")"
      ]
    },
    {
      "cell_type": "code",
      "execution_count": 56,
      "id": "7179dfdd-0d55-4088-8f6c-239bad410c5f",
      "metadata": {
        "colab": {
          "base_uri": "https://localhost:8080/"
        },
        "id": "7179dfdd-0d55-4088-8f6c-239bad410c5f",
        "outputId": "a3de7f45-8858-4680-9cb7-bcf5638ceb5d"
      },
      "outputs": [
        {
          "output_type": "execute_result",
          "data": {
            "text/plain": [
              "array([0, 0, 0, 0, 0, 0, 0, 0, 0, 0, 0, 0, 0, 0, 0, 0, 0, 0, 0, 0, 0, 0,\n",
              "       0, 0, 0, 0, 0, 0, 0, 0, 0, 0, 0, 0, 0, 0, 0, 0, 0, 0, 0, 0, 0, 0,\n",
              "       0, 0, 0, 0, 0, 0, 1, 1, 1, 1, 1, 1, 1, 1, 1, 1, 1, 1, 1, 1, 1, 1,\n",
              "       1, 1, 1, 1, 1, 1, 1, 1, 1, 1, 1, 1, 1, 1, 1, 1, 1, 1, 1, 1, 1, 1,\n",
              "       1, 1, 1, 1, 1, 1, 1, 1, 1, 1, 1, 1, 2, 2, 2, 2, 2, 2, 2, 2, 2, 2,\n",
              "       2, 2, 2, 2, 2, 2, 2, 2, 2, 2, 2, 2, 2, 2, 2, 2, 2, 2, 2, 2, 2, 2,\n",
              "       2, 2, 2, 2, 2, 2, 2, 2, 2, 2, 2, 2, 2, 2, 2, 2, 2, 2])"
            ]
          },
          "metadata": {},
          "execution_count": 56
        }
      ],
      "source": [
        "y # данные нужно перемешать чтобы не получить только 2ю метку в проверке"
      ]
    },
    {
      "cell_type": "code",
      "execution_count": 57,
      "id": "8d961588-d8e7-44bc-8090-70d8ba040539",
      "metadata": {
        "id": "8d961588-d8e7-44bc-8090-70d8ba040539"
      },
      "outputs": [],
      "source": [
        "model = NN() # инициализирует объект модели"
      ]
    },
    {
      "cell_type": "code",
      "execution_count": 58,
      "id": "3e20ecfb-5352-45f0-9718-f476a311732c",
      "metadata": {
        "id": "3e20ecfb-5352-45f0-9718-f476a311732c"
      },
      "outputs": [],
      "source": [
        "model.fit(train_X, train_y) # тренируем модель"
      ]
    },
    {
      "cell_type": "code",
      "execution_count": 59,
      "id": "c169aa0f-07b8-4ebc-8707-0c466fdab75a",
      "metadata": {
        "id": "c169aa0f-07b8-4ebc-8707-0c466fdab75a"
      },
      "outputs": [],
      "source": [
        "# делаем предсказания модели\n",
        "\n",
        "y_preds = []\n",
        "for i in range(test_X.shape[0]):\n",
        "    sample = test_X[i: i+1, :]\n",
        "    prediction = model.predict(sample)\n",
        "    y_preds.extend(prediction)"
      ]
    },
    {
      "cell_type": "code",
      "execution_count": 60,
      "id": "d1eab057-c27d-4290-91c4-aec0c9185dfe",
      "metadata": {
        "colab": {
          "base_uri": "https://localhost:8080/"
        },
        "id": "d1eab057-c27d-4290-91c4-aec0c9185dfe",
        "outputId": "f2a1588e-a332-4e0b-b8f4-133b2258a1fa"
      },
      "outputs": [
        {
          "output_type": "execute_result",
          "data": {
            "text/plain": [
              "array([1, 0, 2, 1, 1, 0, 1, 2, 1, 1, 2, 0, 0, 0, 0, 1, 2, 1, 1, 2, 0, 2,\n",
              "       0, 2, 2, 2, 2, 2, 0, 0])"
            ]
          },
          "metadata": {},
          "execution_count": 60
        }
      ],
      "source": [
        "test_y"
      ]
    },
    {
      "cell_type": "code",
      "execution_count": 61,
      "id": "9dbfc6ef-3979-4344-bba6-5b8ffcd4aab2",
      "metadata": {
        "colab": {
          "base_uri": "https://localhost:8080/"
        },
        "id": "9dbfc6ef-3979-4344-bba6-5b8ffcd4aab2",
        "outputId": "a2d706b7-6869-408d-8ed0-f26ccff8c564"
      },
      "outputs": [
        {
          "output_type": "execute_result",
          "data": {
            "text/plain": [
              "array([1, 0, 2, 1, 1, 0, 1, 2, 1, 1, 2, 0, 0, 0, 0, 1, 2, 1, 1, 2, 0, 2,\n",
              "       0, 2, 2, 2, 2, 2, 0, 0])"
            ]
          },
          "metadata": {},
          "execution_count": 61
        }
      ],
      "source": [
        "np.array(y_preds) # предсказания можно проверить глазами, но лучше посчитать accuracy"
      ]
    },
    {
      "cell_type": "code",
      "execution_count": 62,
      "id": "d0c55a50-e319-4d02-be41-e5b23bdad7a8",
      "metadata": {
        "id": "d0c55a50-e319-4d02-be41-e5b23bdad7a8"
      },
      "outputs": [],
      "source": [
        "y_preds_array = np.array(y_preds) # переводим предсказания в массив \n",
        "is_same = (test_y == y_preds_array) # поэлементно сравниваем предсказания и действительные метки\n",
        "is_same_count = is_same.sum() # поскольку True это 1 а False это 0, то сумма значений будет равна количеству совпадающих элементов\n",
        "accuracy = is_same_count / test_y.shape[0] # делим количество совпадающих элементов на общее количество элементов чтобы узнать процент совпавших элементов"
      ]
    },
    {
      "cell_type": "code",
      "execution_count": 63,
      "id": "35398ea0-791e-4240-bcc0-39b581fceb74",
      "metadata": {
        "colab": {
          "base_uri": "https://localhost:8080/"
        },
        "id": "35398ea0-791e-4240-bcc0-39b581fceb74",
        "outputId": "fd312d58-fb0d-424a-fc2d-d28678657083"
      },
      "outputs": [
        {
          "output_type": "execute_result",
          "data": {
            "text/plain": [
              "1.0"
            ]
          },
          "metadata": {},
          "execution_count": 63
        }
      ],
      "source": [
        "accuracy"
      ]
    },
    {
      "cell_type": "code",
      "execution_count": 64,
      "id": "9f8e0c15-479a-4af5-b758-0ac41d0762c5",
      "metadata": {
        "id": "9f8e0c15-479a-4af5-b758-0ac41d0762c5"
      },
      "outputs": [],
      "source": [
        "# перепишем то что мы сделали в функцию для удобства\n",
        "\n",
        "def test_model(X, y):\n",
        "    train_X, test_X, train_y, test_y = train_test_split(\n",
        "        X, y, test_size=0.2, shuffle=True, random_state=42\n",
        "    )\n",
        "    model = NN()\n",
        "    model.fit(train_X, train_y)\n",
        "    y_preds = []\n",
        "    for i in range(test_X.shape[0]):\n",
        "        sample = test_X[i: i+1, :]\n",
        "        prediction = model.predict(sample)\n",
        "        y_preds.extend(prediction)\n",
        "        \n",
        "    y_preds_array = np.array(y_preds)\n",
        "    is_same = (test_y == y_preds_array)\n",
        "    is_same_count = is_same.sum()\n",
        "    accuracy = is_same_count / test_y.shape[0]\n",
        "    return accuracy"
      ]
    },
    {
      "cell_type": "code",
      "execution_count": 65,
      "id": "298e89b2-5461-4c7e-b9d5-7fdfc904c76f",
      "metadata": {
        "colab": {
          "base_uri": "https://localhost:8080/"
        },
        "id": "298e89b2-5461-4c7e-b9d5-7fdfc904c76f",
        "outputId": "a57031f2-4841-45b1-e17f-7f2d42aed87c"
      },
      "outputs": [
        {
          "output_type": "execute_result",
          "data": {
            "text/plain": [
              "1.0"
            ]
          },
          "metadata": {},
          "execution_count": 65
        }
      ],
      "source": [
        "test_model(X, y)"
      ]
    },
    {
      "cell_type": "code",
      "execution_count": 66,
      "id": "a284f2a8-27c4-4679-8ce3-0a045a768d7b",
      "metadata": {
        "id": "a284f2a8-27c4-4679-8ce3-0a045a768d7b"
      },
      "outputs": [],
      "source": [
        "X_break = X.copy() # сделаем копию наших данных"
      ]
    },
    {
      "cell_type": "code",
      "execution_count": 67,
      "id": "9464ab99-a56c-4e0b-8d9c-d10bfbb524b9",
      "metadata": {
        "id": "9464ab99-a56c-4e0b-8d9c-d10bfbb524b9"
      },
      "outputs": [],
      "source": [
        "X_break[:, 0] *= 100 # умножим всю первую колонку на 100"
      ]
    },
    {
      "cell_type": "code",
      "execution_count": 68,
      "id": "3aed9a34-5a63-412b-b911-c541a709739f",
      "metadata": {
        "colab": {
          "base_uri": "https://localhost:8080/"
        },
        "id": "3aed9a34-5a63-412b-b911-c541a709739f",
        "outputId": "691f7a16-75cd-4b39-9e91-2ebf89eea735"
      },
      "outputs": [
        {
          "output_type": "execute_result",
          "data": {
            "text/plain": [
              "0.8333333333333334"
            ]
          },
          "metadata": {},
          "execution_count": 68
        }
      ],
      "source": [
        "test_model(X_break, y) # качество модели просело на 17%"
      ]
    },
    {
      "cell_type": "markdown",
      "id": "d59fe3bb-7ca1-48c7-9faf-4a1da21a9bc6",
      "metadata": {
        "id": "d59fe3bb-7ca1-48c7-9faf-4a1da21a9bc6"
      },
      "source": [
        "Разберемся что произошло, по нашей формуле квадрат расстояния равен\n",
        "\n",
        "$$\\large{d = (x_1 - z_1)^2 + (x_2 - z_2)^2 + (x_3 - z_3)^2 + (x_4 - z_4)^2}$$\n",
        "\n",
        "мы домножили первую координату на 100\n",
        "\n",
        "$$\\large{d = (100 x_1 - 100 z_1)^2 + (x_2 - z_2)^2 + (x_3 - z_3)^2 + (x_4 - z_4)^2}$$\n",
        "\n",
        "$$\\large{d = 10^4(x_1 - z_1)^2 + (x_2 - z_2)^2 + (x_3 - z_3)^2 + (x_4 - z_4)^2}$$\n",
        "\n",
        "Учитывая что все координаты были примерно равны, после умножения на 100 значение первой координаты стало важнее в $10^4$ раз и остальные свойства практически не влияют на модель"
      ]
    },
    {
      "cell_type": "markdown",
      "id": "88a2a443-b02c-403e-a3ee-58a9ca4e02e2",
      "metadata": {
        "id": "88a2a443-b02c-403e-a3ee-58a9ca4e02e2"
      },
      "source": [
        "Такое может быть не только в искуственных данных, например в модели предсказывающей вернет ли человек кредит, в данных есть такие факторы как возраст и зарплата которые отличаются в 1000 раз\n",
        "\n",
        "Для того чтобы данные влияли одинаково, необходимо их смаштабировать в одну систему координат, например от 0 до 1, для этого можно использовать min max нормализацию\n",
        "\n",
        "$$\\large{x_{scaled} = \\frac{x - x_{min}}{x_{max} - x_{min}}}$$"
      ]
    },
    {
      "cell_type": "code",
      "execution_count": 69,
      "id": "16dea0ff-338a-413f-b1a7-f1f79cf38a9c",
      "metadata": {
        "id": "16dea0ff-338a-413f-b1a7-f1f79cf38a9c"
      },
      "outputs": [],
      "source": [
        "def test_model_scaled(X, y):\n",
        "    train_X, test_X, train_y, test_y = train_test_split(\n",
        "        X, y, test_size=0.2, shuffle=True, random_state=42\n",
        "    )\n",
        "    scaler = MinMaxScaler() # инициализируем класс min max нормализации\n",
        "    scaler.fit(train_X) # тренируем объект, только на данных для обучения!\n",
        "    scaled_train_X = scaler.transform(train_X) # масштабируем наши данные для обучения\n",
        "    model = NN()\n",
        "    model.fit(scaled_train_X, train_y)\n",
        "    y_preds = []\n",
        "    scaled_test_X = scaler.transform(test_X) # масштабируем наши данные для проверки\n",
        "    for i in range(test_X.shape[0]):\n",
        "        sample = scaled_test_X[i: i+1, :]\n",
        "        prediction = model.predict(sample)\n",
        "        y_preds.extend(prediction)\n",
        "    return (test_y == np.array(y_preds)).sum() / test_y.shape[0]"
      ]
    },
    {
      "cell_type": "code",
      "execution_count": 70,
      "id": "e768b1f3-7f69-4e82-84f1-7cf5acab67eb",
      "metadata": {
        "colab": {
          "base_uri": "https://localhost:8080/"
        },
        "id": "e768b1f3-7f69-4e82-84f1-7cf5acab67eb",
        "outputId": "e07f635f-0676-4498-aab9-80b311b6bff1"
      },
      "outputs": [
        {
          "output_type": "execute_result",
          "data": {
            "text/plain": [
              "1.0"
            ]
          },
          "metadata": {},
          "execution_count": 70
        }
      ],
      "source": [
        "test_model_scaled(X, y)"
      ]
    },
    {
      "cell_type": "code",
      "execution_count": 71,
      "id": "c7330077-7218-4bf6-9b8f-f747d1d14fb7",
      "metadata": {
        "colab": {
          "base_uri": "https://localhost:8080/"
        },
        "id": "c7330077-7218-4bf6-9b8f-f747d1d14fb7",
        "outputId": "ccd400f3-88e0-4ad9-95fe-8905c80b8610"
      },
      "outputs": [
        {
          "output_type": "execute_result",
          "data": {
            "text/plain": [
              "1.0"
            ]
          },
          "metadata": {},
          "execution_count": 71
        }
      ],
      "source": [
        "test_model_scaled(X_break, y)"
      ]
    },
    {
      "cell_type": "markdown",
      "id": "47fcac53-634e-48cb-b947-c427ba98bd56",
      "metadata": {
        "id": "47fcac53-634e-48cb-b947-c427ba98bd56"
      },
      "source": [
        "Часто возникают ситуации когда данные имеют некорректные свойства, для разных точек, например у нас крайнее левая зеленая точка выбивается из кластера зеленых точек и возможно является выбросом и учитывая модель какая то область пространства будет неправильно классифицироваться вблизи этой точки.\n",
        "\n",
        "Это можно исправить если мы будем считать расстояние не до одной точки а до K ближайших и возвращать тот класс который представлен наиболее часто в этих K"
      ]
    },
    {
      "cell_type": "code",
      "execution_count": 72,
      "id": "3867ed81-1253-4888-ac62-a228f16d4abf",
      "metadata": {
        "colab": {
          "base_uri": "https://localhost:8080/"
        },
        "id": "3867ed81-1253-4888-ac62-a228f16d4abf",
        "outputId": "371888d1-1415-4681-c13c-e8ed0201080d"
      },
      "outputs": [
        {
          "output_type": "execute_result",
          "data": {
            "text/plain": [
              "(array([0, 1, 2]), array([50, 50, 50]))"
            ]
          },
          "metadata": {},
          "execution_count": 72
        }
      ],
      "source": [
        "np.unique(y, return_counts=True)"
      ]
    },
    {
      "cell_type": "code",
      "execution_count": 73,
      "id": "4d5a3095-be7b-43bc-8ead-5df558e84410",
      "metadata": {
        "id": "4d5a3095-be7b-43bc-8ead-5df558e84410"
      },
      "outputs": [],
      "source": [
        "class KNN:\n",
        "    \n",
        "    def __init__(self, k):\n",
        "        # k - количество ближайших соседей\n",
        "        self.k = k\n",
        "        self.X = None\n",
        "        self.y = None\n",
        "    \n",
        "    def fit(self, X, y):\n",
        "        self.X = X\n",
        "        self.y = y\n",
        "    \n",
        "    def predict(self, X):\n",
        "\n",
        "        square_coords = (self.X - X) ** 2\n",
        "        distances = square_coords.sum(1)\n",
        "        min_indexes = np.argsort(distances)[:self.k] # argsort возвращает порядок индексов при правильной сортировке, возьмем первые k элементов\n",
        "        values, counts = np.unique(self.y[min_indexes], return_counts=True) \n",
        "        # np.unique возвращает уникальные значения в массиве y[min_index] в котором находятся классы ближайших точек\n",
        "        # return_counts = True так же возвращает количество каждого из уникальных значений\n",
        "        max_count = np.argmax(counts) # берем индекс наибольшего количество\n",
        "        return values[max_count: max_count + 1] # возвращаем класс с наибольшим количеством"
      ]
    },
    {
      "cell_type": "code",
      "execution_count": 74,
      "id": "7f9807bf-6b90-4690-a734-cbc26f8c6c88",
      "metadata": {
        "id": "7f9807bf-6b90-4690-a734-cbc26f8c6c88"
      },
      "outputs": [],
      "source": [
        "def test_model_scaled_knn(X, y, k=3): # k - количество ближайших соседей\n",
        "    train_X, test_X, train_y, test_y = train_test_split(\n",
        "        X, y, test_size=0.2, shuffle=True, random_state=42\n",
        "    )\n",
        "    scaler = MinMaxScaler()\n",
        "    scaler.fit(train_X)\n",
        "    scaled_train_X = scaler.transform(train_X)\n",
        "    model = KNN(k)\n",
        "    model.fit(scaled_train_X, train_y)\n",
        "    y_preds = []\n",
        "    scaled_test_X = scaler.transform(test_X)\n",
        "    for i in range(test_X.shape[0]):\n",
        "        sample = scaled_test_X[i: i+1, :]\n",
        "        prediction = model.predict(sample)\n",
        "        y_preds.extend(prediction)\n",
        "    return (test_y == np.array(y_preds)).sum() / test_y.shape[0]"
      ]
    },
    {
      "cell_type": "code",
      "execution_count": 75,
      "id": "894d87aa-db00-43a1-8c69-48071742f6be",
      "metadata": {
        "colab": {
          "base_uri": "https://localhost:8080/"
        },
        "id": "894d87aa-db00-43a1-8c69-48071742f6be",
        "outputId": "247404b5-d443-4758-fa2b-4f9573276d6d"
      },
      "outputs": [
        {
          "output_type": "execute_result",
          "data": {
            "text/plain": [
              "1.0"
            ]
          },
          "metadata": {},
          "execution_count": 75
        }
      ],
      "source": [
        "test_model_scaled_knn(X, y, 3)"
      ]
    },
    {
      "cell_type": "code",
      "execution_count": 76,
      "id": "adbb5160-f166-4741-bdb3-4f68b4b56441",
      "metadata": {
        "colab": {
          "base_uri": "https://localhost:8080/"
        },
        "id": "adbb5160-f166-4741-bdb3-4f68b4b56441",
        "outputId": "4f5d95b7-f528-4296-d9f8-37c640825bfd"
      },
      "outputs": [
        {
          "output_type": "execute_result",
          "data": {
            "text/plain": [
              "1.0"
            ]
          },
          "metadata": {},
          "execution_count": 76
        }
      ],
      "source": [
        "test_model_scaled_knn(X_break, y, 3)"
      ]
    },
    {
      "cell_type": "markdown",
      "id": "899997ba-c50b-42e2-a550-3448e991f954",
      "metadata": {
        "id": "899997ba-c50b-42e2-a550-3448e991f954"
      },
      "source": [
        "Перепишем нашу модель, на расчет расстояний сразу для всех предсказываемых точек\n",
        "\n",
        "для этого воспользуемся методом cdist из scipy.spatial.distance\n",
        "\n",
        "Поскольку numpy имеет C оптимизацию и работает полностью параллельно это будет быстрее"
      ]
    },
    {
      "cell_type": "code",
      "execution_count": 77,
      "id": "7860c171-67fd-481c-9681-fec206239567",
      "metadata": {
        "id": "7860c171-67fd-481c-9681-fec206239567"
      },
      "outputs": [],
      "source": [
        "class KNN2D:\n",
        "    \n",
        "    def __init__(self, k):\n",
        "        self.k = k\n",
        "        self.X = None\n",
        "        self.y = None\n",
        "    \n",
        "    def fit(self, X, y):\n",
        "        self.X = X\n",
        "        self.y = y\n",
        "    \n",
        "    def predict(self, X):\n",
        "        \n",
        "        distances = cdist(X, self.X) # X - (M, D), self.X - (N, D), результат (M, N)\n",
        "        min_indexes = np.argsort(distances, axis=1)[:, :self.k]\n",
        "        labels = self.y[min_indexes]\n",
        "        results = []\n",
        "        for i in range(labels.shape[0]):\n",
        "            row = labels[i]\n",
        "            values, counts = np.unique(row, return_counts=True)\n",
        "            max_count = np.argmax(counts)\n",
        "            results.append(values[max_count])\n",
        "        return np.array(results)"
      ]
    },
    {
      "cell_type": "code",
      "execution_count": 78,
      "id": "4c32ee4e-5791-4642-ba98-88c70019e47d",
      "metadata": {
        "colab": {
          "base_uri": "https://localhost:8080/"
        },
        "id": "4c32ee4e-5791-4642-ba98-88c70019e47d",
        "outputId": "d50483c0-2fa1-486b-c84c-5402904a1bea"
      },
      "outputs": [
        {
          "output_type": "execute_result",
          "data": {
            "text/plain": [
              "1.0"
            ]
          },
          "metadata": {},
          "execution_count": 78
        }
      ],
      "source": [
        "model = KNN2D(3)\n",
        "model.fit(train_X, train_y)\n",
        "pred = model.predict(test_X)\n",
        "accuracy_score(test_y, pred)"
      ]
    },
    {
      "cell_type": "code",
      "execution_count": 79,
      "id": "8058a284-3011-4a4f-8703-91fe859a8311",
      "metadata": {
        "id": "8058a284-3011-4a4f-8703-91fe859a8311"
      },
      "outputs": [],
      "source": [
        "class KNN2DProba:\n",
        "    \n",
        "    def __init__(self, k):\n",
        "        self.k = k\n",
        "        self.X = None\n",
        "        self.y = None\n",
        "        self.n_classes = None\n",
        "    \n",
        "    def fit(self, X, y):\n",
        "        self.X = X\n",
        "        self.y = y\n",
        "        self.n_classes = np.unique(y).size\n",
        "    \n",
        "    def predict_proba(self, X):\n",
        "        \n",
        "        distances = cdist(X, self.X)\n",
        "        min_indexes = np.argsort(distances, axis=1)[:, :self.k]\n",
        "        labels = self.y[min_indexes]\n",
        "        results = []\n",
        "        for i in range(labels.shape[0]):\n",
        "            row = labels[i]\n",
        "            values, counts = np.unique(row, return_counts=True)\n",
        "            probas = np.zeros(self.n_classes)\n",
        "            probas[values] = counts / counts.sum()\n",
        "            results.append(probas)\n",
        "        return np.array(results)\n",
        "    \n",
        "    def predict(self, X):\n",
        "        probas = self.predict_proba(X)\n",
        "        return np.argmax(probas, axis=1)"
      ]
    },
    {
      "cell_type": "code",
      "execution_count": 80,
      "id": "26cc65ed-ad98-4430-a226-a6e8bf2fe0cf",
      "metadata": {
        "colab": {
          "base_uri": "https://localhost:8080/"
        },
        "id": "26cc65ed-ad98-4430-a226-a6e8bf2fe0cf",
        "outputId": "5b649dcc-a3f0-4114-c990-6026c4d44063"
      },
      "outputs": [
        {
          "output_type": "execute_result",
          "data": {
            "text/plain": [
              "1.0"
            ]
          },
          "metadata": {},
          "execution_count": 80
        }
      ],
      "source": [
        "model = KNN2DProba(3)\n",
        "model.fit(train_X, train_y)\n",
        "pred = model.predict(test_X)\n",
        "accuracy_score(test_y, pred)"
      ]
    },
    {
      "cell_type": "code",
      "execution_count": 81,
      "id": "0ce761da-4ef3-43a5-ab3e-ad8f40565294",
      "metadata": {
        "colab": {
          "base_uri": "https://localhost:8080/"
        },
        "id": "0ce761da-4ef3-43a5-ab3e-ad8f40565294",
        "outputId": "1af2c463-bfe3-4c53-b964-a4d346114eb7"
      },
      "outputs": [
        {
          "output_type": "execute_result",
          "data": {
            "text/plain": [
              "array([[0.        , 1.        , 0.        ],\n",
              "       [1.        , 0.        , 0.        ],\n",
              "       [0.        , 0.        , 1.        ],\n",
              "       [0.        , 1.        , 0.        ],\n",
              "       [0.        , 1.        , 0.        ],\n",
              "       [1.        , 0.        , 0.        ],\n",
              "       [0.        , 1.        , 0.        ],\n",
              "       [0.        , 0.        , 1.        ],\n",
              "       [0.        , 0.66666667, 0.33333333],\n",
              "       [0.        , 1.        , 0.        ],\n",
              "       [0.        , 0.33333333, 0.66666667],\n",
              "       [1.        , 0.        , 0.        ],\n",
              "       [1.        , 0.        , 0.        ],\n",
              "       [1.        , 0.        , 0.        ],\n",
              "       [1.        , 0.        , 0.        ],\n",
              "       [0.        , 1.        , 0.        ],\n",
              "       [0.        , 0.        , 1.        ],\n",
              "       [0.        , 1.        , 0.        ],\n",
              "       [0.        , 1.        , 0.        ],\n",
              "       [0.        , 0.        , 1.        ],\n",
              "       [1.        , 0.        , 0.        ],\n",
              "       [0.        , 0.        , 1.        ],\n",
              "       [1.        , 0.        , 0.        ],\n",
              "       [0.        , 0.        , 1.        ],\n",
              "       [0.        , 0.        , 1.        ],\n",
              "       [0.        , 0.        , 1.        ],\n",
              "       [0.        , 0.        , 1.        ],\n",
              "       [0.        , 0.        , 1.        ],\n",
              "       [1.        , 0.        , 0.        ],\n",
              "       [1.        , 0.        , 0.        ]])"
            ]
          },
          "metadata": {},
          "execution_count": 81
        }
      ],
      "source": [
        "model = KNN2DProba(3)\n",
        "model.fit(train_X, train_y)\n",
        "model.predict_proba(test_X)"
      ]
    },
    {
      "cell_type": "markdown",
      "id": "1e524a23-de48-4ffe-bd8f-ba565659e6e1",
      "metadata": {
        "id": "1e524a23-de48-4ffe-bd8f-ba565659e6e1"
      },
      "source": [
        "- Квадратичное $\\large{k = \\frac{15}{16}(1 - r^2)^2}$\n",
        "- Кубическое $\\large{k = \\frac{70}{81}(1 - |r|^3)^3}$\n",
        "- Гауссовское $\\large{k = \\frac{1}{\\sqrt{2 \\pi}} e^{- \\frac{1}{2} r^2}}$\n",
        "\n",
        "$$\\large{r = \\frac{dist_{i}}{radius}}$$"
      ]
    },
    {
      "cell_type": "code",
      "execution_count": 82,
      "id": "d6f4f49b-00e1-44ed-9310-8af1dd9b6ad5",
      "metadata": {
        "id": "d6f4f49b-00e1-44ed-9310-8af1dd9b6ad5"
      },
      "outputs": [],
      "source": [
        "class ParzenWindow:\n",
        "    \n",
        "    def __init__(self, radius):\n",
        "        self.radius = radius\n",
        "        self.X = None\n",
        "        self.y = None\n",
        "        self.n_classes = None\n",
        "    \n",
        "    def fit(self, X, y):\n",
        "        self.X = X\n",
        "        self.y = y\n",
        "        self.n_classes = np.unique(y).size\n",
        "        \n",
        "    def kernel(self, r):\n",
        "        return 1 - np.abs(r)\n",
        "    \n",
        "    def predict_proba(self, X):\n",
        "        \n",
        "        distances = cdist(X, self.X)\n",
        "        results = []\n",
        "        for i in range(distances.shape[0]):\n",
        "            dist_row = distances[i]\n",
        "            indexes = np.where(dist_row < self.radius)\n",
        "            distances_lower = dist_row[indexes]\n",
        "            r = distances_lower / self.radius\n",
        "            k = self.kernel(r)\n",
        "            labels = self.y[indexes]\n",
        "            probas = np.zeros(self.n_classes)\n",
        "            for c in range(self.n_classes):\n",
        "                if (labels == c).sum() > 0:\n",
        "                    probas[c] = k[labels == c].sum()\n",
        "            probas /= probas.sum()\n",
        "            results.append(probas)\n",
        "        return results\n",
        "    \n",
        "    def predict(self, X):\n",
        "        probas = self.predict_proba(X)\n",
        "        return np.argmax(probas, axis=1)"
      ]
    },
    {
      "cell_type": "code",
      "execution_count": 83,
      "id": "b95d5005",
      "metadata": {
        "id": "b95d5005"
      },
      "outputs": [],
      "source": [
        "class myKNN:\n",
        "    \n",
        "    def __init__(self, closestn):\n",
        "        self.closestn = closestn+1\n",
        "        self.X = None\n",
        "        self.y = None\n",
        "        self.n_classes = None\n",
        "\n",
        "    def fit(self, X, y):\n",
        "        self.X = X\n",
        "        self.y = y\n",
        "        self.n_classes = np.unique(y).size\n",
        "\n",
        "    def kernel(self, r):\n",
        "        return 15/16*(1-r**2)**2\n",
        "\n",
        "    def predict_proba(self, X):\n",
        "        distances = cdist(X, self.X)\n",
        "        results = []\n",
        "        myradius = np.sort(distances, axis=1)[:,self.closestn]\n",
        "\n",
        "        for i in range(distances.shape[0]):\n",
        "            dist_row = distances[i]\n",
        "            self.radius = myradius[i]\n",
        "            indexes = np.where(dist_row < self.radius)\n",
        "            distances_lower = dist_row[indexes]\n",
        "            r = distances_lower / self.radius\n",
        "            k = self.kernel(r)\n",
        "            labels = self.y[indexes]\n",
        "            probas = np.zeros(self.n_classes)\n",
        "            for c in range(self.n_classes):\n",
        "                if (labels == c).sum() > 0:\n",
        "                    probas[c] = k[labels == c].sum()\n",
        "            probas /= probas.sum()\n",
        "            results.append(probas)\n",
        "        return results\n",
        "    \n",
        "    def predict(self, X):\n",
        "        probas = self.predict_proba(X)\n",
        "        return np.argmax(probas, axis=1)"
      ]
    },
    {
      "cell_type": "code",
      "execution_count": 84,
      "id": "4a950b42",
      "metadata": {
        "colab": {
          "base_uri": "https://localhost:8080/"
        },
        "id": "4a950b42",
        "outputId": "70a86a1b-a277-4a17-9a32-c0707c8d2ad0"
      },
      "outputs": [
        {
          "output_type": "execute_result",
          "data": {
            "text/plain": [
              "1.0"
            ]
          },
          "metadata": {},
          "execution_count": 84
        }
      ],
      "source": [
        "model = myKNN(3)\n",
        "model.fit(train_X, train_y)\n",
        "accuracy_score(test_y, model.predict(test_X))"
      ]
    }
  ],
  "metadata": {
    "kernelspec": {
      "display_name": "Python 3.10.3 64-bit (system)",
      "language": "python",
      "name": "python3"
    },
    "language_info": {
      "codemirror_mode": {
        "name": "ipython",
        "version": 3
      },
      "file_extension": ".py",
      "mimetype": "text/x-python",
      "name": "python",
      "nbconvert_exporter": "python",
      "pygments_lexer": "ipython3",
      "version": "3.10.3"
    },
    "vscode": {
      "interpreter": {
        "hash": "acc0dcb458adea865fa90ce4f43fb3956ae49c60606d0d549bfdeff9ec2bcd00"
      }
    },
    "colab": {
      "provenance": [],
      "collapsed_sections": []
    }
  },
  "nbformat": 4,
  "nbformat_minor": 5
}